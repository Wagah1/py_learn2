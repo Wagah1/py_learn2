{
 "cells": [
  {
   "cell_type": "code",
   "execution_count": 4,
   "id": "40b338fd-c62b-4183-aa55-fd3a3b0cf238",
   "metadata": {},
   "outputs": [
    {
     "name": "stdin",
     "output_type": "stream",
     "text": [
      "Enter the first number:  45\n",
      "Enter the second number:  34\n"
     ]
    },
    {
     "name": "stdout",
     "output_type": "stream",
     "text": [
      "\n",
      "The sum of 45 and 34 is: 79\n"
     ]
    }
   ],
   "source": [
    "#Calculate the sum of two number entered by the user\n",
    "first_num = int(input(\"Enter the first number: \"))\n",
    "second_num = int(input(\"Enter the second number: \"))\n",
    "\n",
    "sum_num = first_num + second_num\n",
    "\n",
    "print(\"\\nThe sum of \" + str(first_num) + \" and \" + str(second_num) + \" is: \" + str(sum_num))"
   ]
  },
  {
   "cell_type": "code",
   "execution_count": 10,
   "id": "752ec1f2-6b4c-4eea-8296-ad75a44c8dd1",
   "metadata": {},
   "outputs": [
    {
     "name": "stdin",
     "output_type": "stream",
     "text": [
      "Enter temperature in Celsius:  34\n"
     ]
    },
    {
     "name": "stdout",
     "output_type": "stream",
     "text": [
      "\n",
      "34.0°C is equal to: 93.2°F\n"
     ]
    }
   ],
   "source": [
    "#Convert temperature from Celsius to Fahrenheit.\n",
    "temp_Celcius = float(input(\"Enter temperature in Celsius: \"))\n",
    "temp_Fahrenheit = (temp_Celcius * 9/5) + 32\n",
    "\n",
    "print(\"\\n\" + str(temp_Celcius) + \"°C is equal to: \" + str(temp_Fahrenheit) + \"°F\")"
   ]
  },
  {
   "cell_type": "code",
   "execution_count": 11,
   "id": "27660b6a-c409-4ea9-adbe-423fa5701d4c",
   "metadata": {},
   "outputs": [
    {
     "name": "stdin",
     "output_type": "stream",
     "text": [
      "Rectangle length:  23\n",
      "Rectangle width:  45\n"
     ]
    },
    {
     "name": "stdout",
     "output_type": "stream",
     "text": [
      "\n",
      "The area of a rectangle whose length is 23.0 and width is 45.0 is: 1035.0\n"
     ]
    }
   ],
   "source": [
    "#a Python program to calculate the area of a rectangle given its length and width\n",
    "rect_length = float(input(\"Rectangle length: \"))\n",
    "rect_width = float(input(\"Rectangle width: \"))\n",
    "\n",
    "rect_area = rect_length * rect_width\n",
    "\n",
    "print(\"\\nThe area of a rectangle whose length is \" + str(rect_length) + \" and width is \" + str(rect_width) + \" is: \" + str(rect_area))"
   ]
  },
  {
   "cell_type": "code",
   "execution_count": 12,
   "id": "54809e39-d17a-4d2a-b7d1-8ec8a3bb88d9",
   "metadata": {},
   "outputs": [
    {
     "name": "stdin",
     "output_type": "stream",
     "text": [
      "What is your name?  Victory\n",
      "How old are you?  34\n"
     ]
    },
    {
     "name": "stdout",
     "output_type": "stream",
     "text": [
      "\n",
      " Hi Victory\n",
      " How does it feel to be 34 years old?\n"
     ]
    }
   ],
   "source": [
    "#a program that takes a user's name and age as input and prints a greeting message\n",
    "user_name = input(\"What is your name? \")\n",
    "user_age = int(input(\"How old are you? \"))\n",
    "\n",
    "print(\"\\n Hi \" + str(user_name) + \"\\n How does it feel to be \" + str(user_age) + \" years old?\")"
   ]
  },
  {
   "cell_type": "code",
   "execution_count": 38,
   "id": "2ca98de4-2ab4-40cb-b91f-b576a2d85af9",
   "metadata": {},
   "outputs": [
    {
     "name": "stdin",
     "output_type": "stream",
     "text": [
      "Enter number to be checked:  45\n"
     ]
    },
    {
     "name": "stdout",
     "output_type": "stream",
     "text": [
      "\n",
      " The number 45 is odd\n"
     ]
    }
   ],
   "source": [
    "#a program to check if a number is even or odd\n",
    "num_check = int(input(\"Enter number to be checked: \"))\n",
    "\n",
    "if(num_check%2 == 1):\n",
    "    print(\"\\n The number \" + str(num_check) + \" is odd\")\n",
    "\n",
    "else:\n",
    "    print(\"\\n The number \" + str(num_check) + \" is even\")"
   ]
  },
  {
   "cell_type": "code",
   "execution_count": 34,
   "id": "6aa321f1-b4f7-43b4-bd2b-f03994b44f3d",
   "metadata": {},
   "outputs": [
    {
     "name": "stdin",
     "output_type": "stream",
     "text": [
      "How many numbers do you want to input?  3\n",
      "Enter number:  1009\n",
      "Enter number:  2345\n",
      "Enter number:  567\n"
     ]
    },
    {
     "name": "stdout",
     "output_type": "stream",
     "text": [
      "\n",
      " Your list:  [1009, 2345, 567] \n",
      " The maximum number in your list is:  2345 \n",
      " The minimum number in your list is:  567\n"
     ]
    }
   ],
   "source": [
    "#Given a list of numbers, find the maximum and minimum values\n",
    "num_list = []\n",
    "\n",
    "list_size = int(input(\"How many numbers do you want to input? \"))\n",
    "\n",
    "for i in range(list_size):\n",
    "    i = int(input(\"Enter number: \"))\n",
    "    num_list.append(i)\n",
    "\n",
    "max_value = max(num_list)\n",
    "min_value = min(num_list)\n",
    "\n",
    "print(\"\\n Your list: \", num_list, \"\\n The maximum number in your list is: \", max_value, \"\\n The minimum number in your list is: \", min_value)"
   ]
  },
  {
   "cell_type": "code",
   "execution_count": 36,
   "id": "bd1a4228-6b00-46fe-b61b-85c974cf36a5",
   "metadata": {},
   "outputs": [
    {
     "name": "stdin",
     "output_type": "stream",
     "text": [
      " Enter a string to check:  rotator\n"
     ]
    },
    {
     "name": "stdout",
     "output_type": "stream",
     "text": [
      "\n",
      " rotator  is a palindrome\n"
     ]
    }
   ],
   "source": [
    "#a Python function to check if a given string is a palindrome\n",
    "check_string = input(\" Enter a string to check: \")\n",
    "\n",
    "if check_string == check_string[::-1]:\n",
    "    print(\"\\n\", check_string, \" is a palindrome\")\n",
    "\n",
    "else:\n",
    "    print(\"\\n\", check_string, \" is not a palindrome\")"
   ]
  },
  {
   "cell_type": "code",
   "execution_count": 25,
   "id": "d72b6b15-28e2-4f60-aa1e-97f08aab0f9a",
   "metadata": {},
   "outputs": [
    {
     "name": "stdin",
     "output_type": "stream",
     "text": [
      "Enter the principal amount:  4000000\n",
      "Enter the annual interest rate:  13\n",
      "Enter the number of years:  5\n"
     ]
    },
    {
     "name": "stdout",
     "output_type": "stream",
     "text": [
      "The compound interest is:  7369740.717199996\n"
     ]
    }
   ],
   "source": [
    "#a Python program to calculate the compound interest for a given principal amount, interest rate, and time period\n",
    "principal = int(input(\"Enter the principal amount: \"))\n",
    "rate = int(input(\"Enter the annual interest rate: \"))\n",
    "period = int(input(\"Enter the number of years: \"))\n",
    "\n",
    "compound_interest = principal * (1 + rate/100) ** period\n",
    "\n",
    "print(\"The compound interest is: \", compound_interest)"
   ]
  },
  {
   "cell_type": "code",
   "execution_count": 31,
   "id": "48f21cac-7125-446b-b17f-f6b551b5182c",
   "metadata": {},
   "outputs": [
    {
     "name": "stdin",
     "output_type": "stream",
     "text": [
      "Enter the number of days:  1270\n"
     ]
    },
    {
     "name": "stdout",
     "output_type": "stream",
     "text": [
      "\n",
      " 1270  days are equal to  3  year(s),  25  week(s), and  0  day(s)\n"
     ]
    }
   ],
   "source": [
    "#a python program that converts a given number of days into years, weeks, and days\n",
    "num_days = int(input(\"Enter the number of days: \"))\n",
    "\n",
    "num_years = int(num_days/365)\n",
    "\n",
    "num_weeks = int(num_days%365/7)\n",
    "\n",
    "days_num = int((num_days%365)%7)\n",
    "\n",
    "print(\"\\n\", num_days, \" days are equal to \", num_years, \" year(s), \", num_weeks, \" week(s), and \", days_num, \" day(s)\")"
   ]
  },
  {
   "cell_type": "code",
   "execution_count": 39,
   "id": "83cc770e-51fe-47db-b9c7-9659bd83e2cc",
   "metadata": {},
   "outputs": [
    {
     "name": "stdin",
     "output_type": "stream",
     "text": [
      "How many integers do you want to add:  7\n",
      "Enter an integer:  3\n",
      "Enter an integer:  -4\n",
      "Enter an integer:  9\n",
      "Enter an integer:  -19\n",
      "Enter an integer:  34\n",
      "Enter an integer:  67\n",
      "Enter an integer:  12\n"
     ]
    },
    {
     "name": "stdout",
     "output_type": "stream",
     "text": [
      "\n",
      " The sum of positive numbers in the list  [3, -4, 9, -19, 34, 67, 12] is 125\n"
     ]
    }
   ],
   "source": [
    "# Given a list of integers, find the sum of all positive numbers\n",
    "list_size = int(input(\"How many integers do you want to add: \"))\n",
    "\n",
    "integer_list = []\n",
    "\n",
    "for i in range(list_size):\n",
    "    i = int(input(\"Enter an integer: \"))\n",
    "    integer_list.append(i)\n",
    "\n",
    "sum_positive = 0\n",
    "\n",
    "for j in integer_list:\n",
    "    if j > 0:\n",
    "        sum_positive += j\n",
    "    else:\n",
    "        sum_positive += 0\n",
    "\n",
    "print(\"\\n The sum of positive numbers in the list \", integer_list, \"is\", sum_positive)"
   ]
  },
  {
   "cell_type": "code",
   "execution_count": 42,
   "id": "07b125d1-189a-4995-a621-0b7586a68159",
   "metadata": {},
   "outputs": [
    {
     "name": "stdin",
     "output_type": "stream",
     "text": [
      "Enter your sentence:  I want to work harder this year\n"
     ]
    },
    {
     "name": "stdout",
     "output_type": "stream",
     "text": [
      "\n",
      " The number of words in your sentence is  7\n"
     ]
    }
   ],
   "source": [
    "#Create a program that takes a sentence as input and counts the number of words in it\n",
    "sentence = input(\"Enter your sentence: \")\n",
    "\n",
    "word_list = sentence.split()\n",
    "\n",
    "print(\"\\n The number of words in your sentence is \", len(word_list))"
   ]
  },
  {
   "cell_type": "code",
   "execution_count": 46,
   "id": "353bbb4a-b217-4a05-bbdc-1d1a7221930a",
   "metadata": {},
   "outputs": [
    {
     "name": "stdin",
     "output_type": "stream",
     "text": [
      "Enter your favorite color:  black\n",
      "Enter your friend's favorite color:  white\n"
     ]
    },
    {
     "name": "stdout",
     "output_type": "stream",
     "text": [
      "You exchanged colors with your friend! Now your favorite color is  white and your friend's favorite color is  black\n"
     ]
    }
   ],
   "source": [
    "# Implement a program that swaps the values of two variables\n",
    "your_color = input(\"Enter your favorite color: \")\n",
    "friends_color = input(\"Enter your friend's favorite color: \")\n",
    "\n",
    "temp = your_color\n",
    "your_color = friends_color\n",
    "friends_color = temp\n",
    "\n",
    "print(\"You exchanged colors with your friend! Now your favorite color is \", your_color, \"and your friend's favorite color is \", friends_color)"
   ]
  },
  {
   "cell_type": "code",
   "execution_count": null,
   "id": "2fc1ef09-6fff-4b0f-bfc8-9ce0ab922a5c",
   "metadata": {},
   "outputs": [],
   "source": []
  }
 ],
 "metadata": {
  "kernelspec": {
   "display_name": "Python 3 (ipykernel)",
   "language": "python",
   "name": "python3"
  },
  "language_info": {
   "codemirror_mode": {
    "name": "ipython",
    "version": 3
   },
   "file_extension": ".py",
   "mimetype": "text/x-python",
   "name": "python",
   "nbconvert_exporter": "python",
   "pygments_lexer": "ipython3",
   "version": "3.12.6"
  }
 },
 "nbformat": 4,
 "nbformat_minor": 5
}
